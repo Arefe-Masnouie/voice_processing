{
 "cells": [
  {
   "cell_type": "code",
   "execution_count": 2,
   "metadata": {},
   "outputs": [],
   "source": [
    "import speech_recognition as sr"
   ]
  },
  {
   "cell_type": "code",
   "execution_count": 4,
   "metadata": {},
   "outputs": [
    {
     "name": "stdout",
     "output_type": "stream",
     "text": [
      "Say something:\n",
      "You said: hey my name is arifah I'm 21 years old and I was studying computer engineering the other University calcium branch and my focus on my area of Focus currently is data Science and machine learning and I have to learn deep learning and computer vision as soon as possible to\n"
     ]
    }
   ],
   "source": [
    "# Obtain audio from the microphone\n",
    "# Initialize recognizer\n",
    "recognizer = sr.Recognizer()\n",
    "\n",
    "# Use the microphone as the source of audio input\n",
    "with sr.Microphone() as source:\n",
    "    print(\"Say something:\")\n",
    "    audio = recognizer.listen(source)\n",
    "\n",
    "    try:\n",
    "        # Recognize speech using Google Speech Recognition\n",
    "        text = recognizer.recognize_google(audio)\n",
    "        print(\"You said: \" + text)\n",
    "    except sr.UnknownValueError:\n",
    "        print(\"Sorry, I couldn't understand the audio\")\n",
    "    except sr.RequestError:\n",
    "        print(\"Could not request results; check your internet connection\")\n"
   ]
  }
 ],
 "metadata": {
  "kernelspec": {
   "display_name": "base",
   "language": "python",
   "name": "python3"
  },
  "language_info": {
   "codemirror_mode": {
    "name": "ipython",
    "version": 3
   },
   "file_extension": ".py",
   "mimetype": "text/x-python",
   "name": "python",
   "nbconvert_exporter": "python",
   "pygments_lexer": "ipython3",
   "version": "3.8.8"
  }
 },
 "nbformat": 4,
 "nbformat_minor": 2
}
